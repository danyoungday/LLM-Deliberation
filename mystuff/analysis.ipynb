{
 "cells": [
  {
   "cell_type": "code",
   "execution_count": null,
   "id": "7308c1b3",
   "metadata": {},
   "outputs": [],
   "source": [
    "import json\n",
    "import re"
   ]
  },
  {
   "cell_type": "code",
   "execution_count": null,
   "id": "1bb29d16",
   "metadata": {},
   "outputs": [],
   "source": [
    "RESULTS_DIR = \"games_descriptions/base/output/test-moderator\""
   ]
  },
  {
   "cell_type": "code",
   "execution_count": null,
   "id": "57c29158",
   "metadata": {},
   "outputs": [],
   "source": [
    "with open(RESULTS_DIR + \"/history16_44_54.json\", \"r\") as f:\n",
    "    history = json.load(f)"
   ]
  },
  {
   "cell_type": "code",
   "execution_count": null,
   "id": "8ce29613",
   "metadata": {},
   "outputs": [],
   "source": [
    "def extract_deals(history: dict) -> list[dict[str, str]]:\n",
    "    \"\"\"\n",
    "    Extract deals from the history of rounds.\n",
    "    Gets the text between <DEAL> and </DEAL> in the public answer.\n",
    "    Splits by commas to get the individual parts of the deal, then strips off the letters to just get the number values.\n",
    "    \"\"\"\n",
    "    deals = []\n",
    "    for round in history[\"rounds\"]:\n",
    "        public_answer = round[\"public_answer\"]\n",
    "        # Deal is between <DEAL> and </DEAL>\n",
    "        deal_match = re.search(r\"<DEAL>(.*?)</DEAL>\", public_answer, re.DOTALL)\n",
    "        if deal_match:\n",
    "            deal = deal_match.group(1).strip()\n",
    "            parts = deal.split(\",\")\n",
    "            # Use regex to extract numbers from each part\n",
    "            parts = [int(re.sub(r\"[^\\d.]\", \"\", part.strip())) for part in parts if part.strip()]\n",
    "            if parts:\n",
    "                deals.append({\"agent\": round[\"agent\"], \"deal\": parts})\n",
    "            else:\n",
    "                raise ValueError(\"Unable to parse deal\")\n",
    "        else:\n",
    "            raise ValueError(\"No deal found\")\n",
    "    return deals"
   ]
  },
  {
   "cell_type": "code",
   "execution_count": null,
   "id": "7c1ea881",
   "metadata": {},
   "outputs": [],
   "source": [
    "deals = extract_deals(history)"
   ]
  },
  {
   "cell_type": "code",
   "execution_count": null,
   "id": "7ae32f54",
   "metadata": {},
   "outputs": [
    {
     "name": "stderr",
     "output_type": "stream",
     "text": [
      "ERROR:tornado.general:Uncaught exception in ZMQStream callback\n",
      "Traceback (most recent call last):\n",
      "  File \"/Users/964840/anaconda3/envs/deliberation/lib/python3.12/site-packages/zmq/eventloop/zmqstream.py\", line 575, in _log_error\n",
      "    f.result()\n",
      "  File \"/Users/964840/anaconda3/envs/deliberation/lib/python3.12/site-packages/ipykernel/kernelbase.py\", line 299, in dispatch_control\n",
      "    await self.process_control(msg)\n",
      "  File \"/Users/964840/anaconda3/envs/deliberation/lib/python3.12/site-packages/ipykernel/kernelbase.py\", line 305, in process_control\n",
      "    idents, msg = self.session.feed_identities(msg, copy=False)\n",
      "                  ^^^^^^^^^^^^^^^^^^^^^^^^^^^^^^^^^^^^^^^^^^^^^\n",
      "  File \"/Users/964840/anaconda3/envs/deliberation/lib/python3.12/site-packages/jupyter_client/session.py\", line 994, in feed_identities\n",
      "    raise ValueError(msg)\n",
      "ValueError: DELIM not in msg_list\n",
      "ERROR:tornado.general:Uncaught exception in ZMQStream callback\n",
      "Traceback (most recent call last):\n",
      "  File \"/Users/964840/anaconda3/envs/deliberation/lib/python3.12/site-packages/zmq/eventloop/zmqstream.py\", line 575, in _log_error\n",
      "    f.result()\n",
      "  File \"/Users/964840/anaconda3/envs/deliberation/lib/python3.12/site-packages/ipykernel/kernelbase.py\", line 299, in dispatch_control\n",
      "    await self.process_control(msg)\n",
      "  File \"/Users/964840/anaconda3/envs/deliberation/lib/python3.12/site-packages/ipykernel/kernelbase.py\", line 305, in process_control\n",
      "    idents, msg = self.session.feed_identities(msg, copy=False)\n",
      "                  ^^^^^^^^^^^^^^^^^^^^^^^^^^^^^^^^^^^^^^^^^^^^^\n",
      "  File \"/Users/964840/anaconda3/envs/deliberation/lib/python3.12/site-packages/jupyter_client/session.py\", line 994, in feed_identities\n",
      "    raise ValueError(msg)\n",
      "ValueError: DELIM not in msg_list\n",
      "ERROR:tornado.general:Uncaught exception in ZMQStream callback\n",
      "Traceback (most recent call last):\n",
      "  File \"/Users/964840/anaconda3/envs/deliberation/lib/python3.12/site-packages/zmq/eventloop/zmqstream.py\", line 575, in _log_error\n",
      "    f.result()\n",
      "  File \"/Users/964840/anaconda3/envs/deliberation/lib/python3.12/site-packages/ipykernel/kernelbase.py\", line 299, in dispatch_control\n",
      "    await self.process_control(msg)\n",
      "  File \"/Users/964840/anaconda3/envs/deliberation/lib/python3.12/site-packages/ipykernel/kernelbase.py\", line 305, in process_control\n",
      "    idents, msg = self.session.feed_identities(msg, copy=False)\n",
      "                  ^^^^^^^^^^^^^^^^^^^^^^^^^^^^^^^^^^^^^^^^^^^^^\n",
      "  File \"/Users/964840/anaconda3/envs/deliberation/lib/python3.12/site-packages/jupyter_client/session.py\", line 994, in feed_identities\n",
      "    raise ValueError(msg)\n",
      "ValueError: DELIM not in msg_list\n",
      "ERROR:tornado.general:Uncaught exception in ZMQStream callback\n",
      "Traceback (most recent call last):\n",
      "  File \"/Users/964840/anaconda3/envs/deliberation/lib/python3.12/site-packages/zmq/eventloop/zmqstream.py\", line 575, in _log_error\n",
      "    f.result()\n",
      "  File \"/Users/964840/anaconda3/envs/deliberation/lib/python3.12/site-packages/ipykernel/kernelbase.py\", line 299, in dispatch_control\n",
      "    await self.process_control(msg)\n",
      "  File \"/Users/964840/anaconda3/envs/deliberation/lib/python3.12/site-packages/ipykernel/kernelbase.py\", line 305, in process_control\n",
      "    idents, msg = self.session.feed_identities(msg, copy=False)\n",
      "                  ^^^^^^^^^^^^^^^^^^^^^^^^^^^^^^^^^^^^^^^^^^^^^\n",
      "  File \"/Users/964840/anaconda3/envs/deliberation/lib/python3.12/site-packages/jupyter_client/session.py\", line 994, in feed_identities\n",
      "    raise ValueError(msg)\n",
      "ValueError: DELIM not in msg_list\n",
      "ERROR:tornado.general:Uncaught exception in ZMQStream callback\n",
      "Traceback (most recent call last):\n",
      "  File \"/Users/964840/anaconda3/envs/deliberation/lib/python3.12/site-packages/zmq/eventloop/zmqstream.py\", line 575, in _log_error\n",
      "    f.result()\n",
      "  File \"/Users/964840/anaconda3/envs/deliberation/lib/python3.12/site-packages/ipykernel/kernelbase.py\", line 299, in dispatch_control\n",
      "    await self.process_control(msg)\n",
      "  File \"/Users/964840/anaconda3/envs/deliberation/lib/python3.12/site-packages/ipykernel/kernelbase.py\", line 305, in process_control\n",
      "    idents, msg = self.session.feed_identities(msg, copy=False)\n",
      "                  ^^^^^^^^^^^^^^^^^^^^^^^^^^^^^^^^^^^^^^^^^^^^^\n",
      "  File \"/Users/964840/anaconda3/envs/deliberation/lib/python3.12/site-packages/jupyter_client/session.py\", line 994, in feed_identities\n",
      "    raise ValueError(msg)\n",
      "ValueError: DELIM not in msg_list\n",
      "ERROR:tornado.general:Uncaught exception in ZMQStream callback\n",
      "Traceback (most recent call last):\n",
      "  File \"/Users/964840/anaconda3/envs/deliberation/lib/python3.12/site-packages/zmq/eventloop/zmqstream.py\", line 575, in _log_error\n",
      "    f.result()\n",
      "  File \"/Users/964840/anaconda3/envs/deliberation/lib/python3.12/site-packages/ipykernel/kernelbase.py\", line 299, in dispatch_control\n",
      "    await self.process_control(msg)\n",
      "  File \"/Users/964840/anaconda3/envs/deliberation/lib/python3.12/site-packages/ipykernel/kernelbase.py\", line 305, in process_control\n",
      "    idents, msg = self.session.feed_identities(msg, copy=False)\n",
      "                  ^^^^^^^^^^^^^^^^^^^^^^^^^^^^^^^^^^^^^^^^^^^^^\n",
      "  File \"/Users/964840/anaconda3/envs/deliberation/lib/python3.12/site-packages/jupyter_client/session.py\", line 994, in feed_identities\n",
      "    raise ValueError(msg)\n",
      "ValueError: DELIM not in msg_list\n",
      "Bad pipe message: %s [b'\\xc8\\x1f\\xc6+\\xfc\\xbd\"%5g\\x19]\\xe2X5d9\\x98\\x00\\x01|\\x00\\x00\\x00\\x01\\x00\\x02\\x00\\x03\\x00\\x04\\x00\\x05\\x00\\x06\\x00\\x07\\x00\\x08\\x00\\t\\x00\\n\\x00\\x0b\\x00\\x0c\\x00\\r\\x00\\x0e\\x00\\x0f\\x00\\x10\\x00\\x11\\x00\\x12\\x00\\x13\\x00\\x14\\x00\\x15\\x00\\x16\\x00\\x17\\x00\\x18\\x00\\x19\\x00\\x1a\\x00\\x1b\\x00/\\x000\\x001\\x002\\x003\\x004\\x005']\n"
     ]
    }
   ],
   "source": [
    "deals"
   ]
  }
 ],
 "metadata": {
  "kernelspec": {
   "display_name": "deliberation",
   "language": "python",
   "name": "python3"
  },
  "language_info": {
   "codemirror_mode": {
    "name": "ipython",
    "version": 3
   },
   "file_extension": ".py",
   "mimetype": "text/x-python",
   "name": "python",
   "nbconvert_exporter": "python",
   "pygments_lexer": "ipython3",
   "version": "3.12.3"
  }
 },
 "nbformat": 4,
 "nbformat_minor": 5
}
