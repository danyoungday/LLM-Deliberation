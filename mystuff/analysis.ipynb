{
 "cells": [
  {
   "cell_type": "code",
   "execution_count": null,
   "id": "7308c1b3",
   "metadata": {},
   "outputs": [],
   "source": [
    "import json\n",
    "import re"
   ]
  },
  {
   "cell_type": "code",
   "execution_count": null,
   "id": "1bb29d16",
   "metadata": {},
   "outputs": [],
   "source": [
    "RESULTS_DIR = \"games_descriptions/base/output/test-moderator\""
   ]
  },
  {
   "cell_type": "code",
   "execution_count": null,
   "id": "57c29158",
   "metadata": {},
   "outputs": [],
   "source": [
    "with open(RESULTS_DIR + \"/history16_44_54.json\", \"r\") as f:\n",
    "    history = json.load(f)"
   ]
  },
  {
   "cell_type": "code",
   "execution_count": null,
   "id": "8ce29613",
   "metadata": {},
   "outputs": [],
   "source": [
    "def extract_deals(history: dict) -> list[dict[str, str]]:\n",
    "    \"\"\"\n",
    "    Extract deals from the history of rounds.\n",
    "    Gets the text between <DEAL> and </DEAL> in the public answer.\n",
    "    Splits by commas to get the individual parts of the deal, then strips off the letters to just get the number values.\n",
    "    \"\"\"\n",
    "    deals = []\n",
    "    for round in history[\"rounds\"]:\n",
    "        public_answer = round[\"public_answer\"]\n",
    "        # Deal is between <DEAL> and </DEAL>\n",
    "        deal_match = re.search(r\"<DEAL>(.*?)</DEAL>\", public_answer, re.DOTALL)\n",
    "        if deal_match:\n",
    "            deal = deal_match.group(1).strip()\n",
    "            parts = deal.split(\",\")\n",
    "            # Use regex to extract numbers from each part\n",
    "            parts = [int(re.sub(r\"[^\\d.]\", \"\", part.strip())) for part in parts if part.strip()]\n",
    "            if parts:\n",
    "                deals.append({\"agent\": round[\"agent\"], \"deal\": parts})\n",
    "            else:\n",
    "                raise ValueError(\"Unable to parse deal\")\n",
    "        else:\n",
    "            raise ValueError(\"No deal found\")\n",
    "    return deals"
   ]
  },
  {
   "cell_type": "code",
   "execution_count": null,
   "id": "7c1ea881",
   "metadata": {},
   "outputs": [],
   "source": [
    "deals = extract_deals(history)"
   ]
  },
  {
   "cell_type": "code",
   "execution_count": null,
   "id": "7ae32f54",
   "metadata": {},
   "outputs": [],
   "source": [
    "deals"
   ]
  }
 ],
 "metadata": {
  "kernelspec": {
   "display_name": "deliberation",
   "language": "python",
   "name": "python3"
  },
  "language_info": {
   "codemirror_mode": {
    "name": "ipython",
    "version": 3
   },
   "file_extension": ".py",
   "mimetype": "text/x-python",
   "name": "python",
   "nbconvert_exporter": "python",
   "pygments_lexer": "ipython3",
   "version": "3.12.3"
  }
 },
 "nbformat": 4,
 "nbformat_minor": 5
}
